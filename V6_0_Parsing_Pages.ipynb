{
 "cells": [
  {
   "cell_type": "code",
   "execution_count": null,
   "metadata": {},
   "outputs": [],
   "source": [
    "#Copyright 2021, Bizino Data and Insights Learning"
   ]
  },
  {
   "cell_type": "code",
   "execution_count": null,
   "metadata": {
    "id": "F8Kzg_XL7afw"
   },
   "outputs": [],
   "source": [
    "import pandas as pd\n",
    "from bs4 import BeautifulSoup\n",
    "import csv\n",
    "import requests\n",
    "import json\n",
    "import re\n",
    "import os\n"
   ]
  },
  {
   "cell_type": "code",
   "execution_count": null,
   "metadata": {
    "id": "kjaDjdtl_A0a"
   },
   "outputs": [],
   "source": [
    "def get_page_no(url, sc_id, page_no, next, year):\n",
    "  request = requests.get(url)\n",
    "  soup = BeautifulSoup(request.text, 'html.parser')\n",
    "\n",
    "  all_page_no = soup.find_all('div', attrs = {'class': 'pages MR10 MT15'})\n",
    "  page_list = [i.text for i in all_page_no[0].find_all('a')]\n",
    "\n",
    "  if any(map(str.isdigit, page_list[-1])):\n",
    "    return int(page_list[-1]), next\n",
    "\n",
    "  else:\n",
    "    next = next + 1\n",
    "    page_no = int(page_list[-2])\n",
    "    url = \"https://www.moneycontrol.com/stocks/company_info/stock_news.php?sc_id=\"+sc_id+\"&scat=&pageno=\"+str(page_no)+\"&next=\"+str(next)+\"&durationType=Y&Year=\"+str(year)+\"&duration=1&news_type=\"\n",
    "    return get_page_no(url, sc_id, page_no, next, year)\n"
   ]
  },
  {
   "cell_type": "code",
   "execution_count": null,
   "metadata": {
    "id": "Zf0l-wDIBinP"
   },
   "outputs": [],
   "source": [
    "sc_id = \"RI\"\n",
    "page_no = 1\n",
    "next = 0\n",
    "year = 2017\n",
    "url = \"https://www.moneycontrol.com/stocks/company_info/stock_news.php?sc_id=\"+sc_id+\"&scat=&pageno=\"+str(page_no)+\"&next=\"+str(next)+\"&durationType=Y&Year=\"+str(year)+\"&duration=1&news_type=\"\n",
    "page_no, next = get_page_no(url, sc_id, page_no, next, year)\n"
   ]
  },
  {
   "cell_type": "code",
   "execution_count": null,
   "metadata": {
    "colab": {
     "base_uri": "https://localhost:8080/"
    },
    "id": "W9MLwdcZBqrU",
    "outputId": "6c6857cb-9d84-43de-81aa-d338ce69737f"
   },
   "outputs": [
    {
     "name": "stdout",
     "output_type": "stream",
     "text": [
      "21 2\n"
     ]
    }
   ],
   "source": [
    "print(page_no, next)"
   ]
  },
  {
   "cell_type": "code",
   "execution_count": null,
   "metadata": {
    "id": "BVsEZ_MoCNri"
   },
   "outputs": [],
   "source": []
  }
 ],
 "metadata": {
  "colab": {
   "name": "V6-0_Parsing_Pages.ipynb",
   "provenance": []
  },
  "kernelspec": {
   "display_name": "Python 3",
   "language": "python",
   "name": "python3"
  },
  "language_info": {
   "codemirror_mode": {
    "name": "ipython",
    "version": 3
   },
   "file_extension": ".py",
   "mimetype": "text/x-python",
   "name": "python",
   "nbconvert_exporter": "python",
   "pygments_lexer": "ipython3",
   "version": "3.8.5"
  }
 },
 "nbformat": 4,
 "nbformat_minor": 1
}
