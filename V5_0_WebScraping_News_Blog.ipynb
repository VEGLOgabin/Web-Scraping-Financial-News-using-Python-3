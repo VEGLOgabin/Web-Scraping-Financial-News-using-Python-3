{
 "cells": [
  {
   "cell_type": "code",
   "execution_count": null,
   "metadata": {},
   "outputs": [],
   "source": [
    "#Copyright 2021, Bizino Data and Insights Learning"
   ]
  },
  {
   "cell_type": "code",
   "execution_count": null,
   "metadata": {
    "colab": {
     "base_uri": "https://localhost:8080/"
    },
    "id": "FDEE8bDw6dSO",
    "outputId": "5fb281d4-28eb-49dd-d9ee-515f425beef5"
   },
   "outputs": [
    {
     "name": "stdout",
     "output_type": "stream",
     "text": [
      "Requirement already satisfied: beautifulsoup4 in /usr/local/lib/python3.7/dist-packages (4.6.3)\n"
     ]
    }
   ],
   "source": [
    "# !pip install beautifulsoup4"
   ]
  },
  {
   "cell_type": "code",
   "execution_count": null,
   "metadata": {
    "id": "o9fSTtXOxKWr"
   },
   "outputs": [],
   "source": [
    "import bs4\n",
    "import requests\n",
    "import json\n",
    "import re"
   ]
  },
  {
   "cell_type": "code",
   "execution_count": null,
   "metadata": {
    "id": "YyJ5olLwGghb"
   },
   "outputs": [],
   "source": [
    "url = \"https://www.moneycontrol.com/news/business/markets/reliance-industries-share-price-gains-on-50-million-investment-in-ambri-7304521.html\""
   ]
  },
  {
   "cell_type": "code",
   "execution_count": null,
   "metadata": {
    "id": "TJ9-EfEDGkKh"
   },
   "outputs": [],
   "source": [
    "request = requests.get(url)\n",
    "soup = bs4.BeautifulSoup(request.text, 'html.parser')"
   ]
  },
  {
   "cell_type": "code",
   "execution_count": null,
   "metadata": {
    "colab": {
     "base_uri": "https://localhost:8080/"
    },
    "id": "DM5HKwozGujT",
    "outputId": "8f6e9872-7447-4e73-b762-5d4ae6ae0a04"
   },
   "outputs": [
    {
     "data": {
      "text/plain": [
       "bs4.element.ResultSet"
      ]
     },
     "execution_count": 6,
     "metadata": {},
     "output_type": "execute_result"
    }
   ],
   "source": [
    "all_script = soup.find_all('script', attrs = {'type': 'application/ld+json'})\n",
    "type(all_script)"
   ]
  },
  {
   "cell_type": "code",
   "execution_count": null,
   "metadata": {
    "colab": {
     "base_uri": "https://localhost:8080/"
    },
    "id": "aB8W7vxUHAXx",
    "outputId": "601621f7-1485-4cfa-de97-7986a522a0e4"
   },
   "outputs": [
    {
     "data": {
      "text/plain": [
       "4"
      ]
     },
     "execution_count": 7,
     "metadata": {},
     "output_type": "execute_result"
    }
   ],
   "source": [
    "len(all_script)"
   ]
  },
  {
   "cell_type": "code",
   "execution_count": null,
   "metadata": {
    "colab": {
     "base_uri": "https://localhost:8080/"
    },
    "id": "NooDwdd_HEHR",
    "outputId": "f2b59ede-6f3c-4ed4-fc7f-e9724cbd22e8"
   },
   "outputs": [
    {
     "name": "stdout",
     "output_type": "stream",
     "text": [
      "<script type=\"application/ld+json\">        [{\r\n",
      "          \"@context\": \"https://schema.org\",\r\n",
      "          \"mainEntityOfPage\":\"https://www.moneycontrol.com/news/business/markets/reliance-industries-share-price-gains-on-50-million-investment-in-ambri-7304521.html\",\r\n",
      "          \r\n",
      "          \"@type\": \"NewsArticle\",\r\n",
      "          \"url\": \"https://www.moneycontrol.com/news/business/markets/reliance-industries-share-price-gains-on-50-million-investment-in-ambri-7304521.html\",\r\n",
      "          \"articleBody\":\"Reliance Industries (RIL) share price added over 1 percent as the company's subsidiary announced an investment in US based company.\r\n",
      "\r\n",
      "&amp;quot;Reliance New Energy Solar (RNESL), a wholly owned subsidiary of RIL, along with strategic investors Paulson &amp;amp;amp; Co. Inc. and Bill Gates, and a few other investors, has announced an investment of USD 144 million in Ambri Inc, an energy storage company based in Massachusetts, USA,&amp;quot; as per the company press release.\r\n",
      "\r\n",
      "The investment will help the company commercialise and grow its long-duration energy storage systems business globally.\r\n",
      "\r\n",
      "RNESL will invest USD 50 million to acquire 42.3 million shares of preferred stock in Ambri.\r\n",
      "\r\n",
      "&ldquo;We are exploring new and advanced electro-chemical technologies that can be used for such large-scale grid batteries to store the energy that we will create,&amp;quot; said Mukesh Ambani, Chairman, Reliance Industries.\r\n",
      "\r\n",
      "&amp;quot;We will collaborate with global leaders in battery technology to achieve the highest reliability for round-the-clock power availability through a combination of generation, storage, and grid connectivity,&amp;quot; he added.\r\n",
      "\r\n",
      "At 10:45 hrs Reliance Industries was quoting at Rs 2,103.60, up Rs 26.35, or 1.27 percent.\r\n",
      "\r\n",
      "The share touched a 52-week high of Rs 2,368.80 and a 52-week low of Rs 1,830 on 16 September, 2020 and 29 January, 2021, respectively.\r\n",
      "\r\n",
      "Currently, it is trading 11.2 percent below its 52-week high and 14.95 percent above its 52-week low.\r\n",
      "\r\n",
      "Disclaimer: MoneyControl is a part of the Network18 group. Network18 is controlled by Independent Media Trust, of which Reliance Industries is the sole beneficiary.\",\r\n",
      "          \"articleSection\":\"Business\",\r\n",
      "          \"headline\": \"Reliance Industries share price gains on $50-million investment in Ambri\",\r\n",
      "          \"description\":\"Reliance New Energy Solar will invest USD 50 million to acquire 42.3 million shares of preferred stock in Ambri.\",\r\n",
      "          \"author\": \"Moneycontrol News\",\r\n",
      "          \"datePublished\": \"2021-08-10T14:41:33+05:30\",\r\n",
      "          \"dateModified\": \"2021-08-10T14:41:33+05:30\",\r\n",
      "          \"image\":{\r\n",
      "                \"@context\": \"https://schema.org\",\r\n",
      "                \"@type\": \"ImageObject\",\r\n",
      "                \"width\": \"630px\",\r\n",
      "                \"height\": \"354px\",\r\n",
      "                \"url\":\"https://images.moneycontrol.com/static-mcnews/2017/04/Reliance_Industries_RIL-770x433.jpg\"\r\n",
      "              },\r\n",
      "          \"publisher\":{\r\n",
      "                \"@context\": \"https://schema.org\",\r\n",
      "                \"@type\": \"Organization\",\r\n",
      "                \"name\": \"Moneycontrol\",\r\n",
      "                \"logo\": {\r\n",
      "                        \"@context\": \"https://schema.org\",\r\n",
      "                        \"@type\": \"ImageObject\",\r\n",
      "                        \"width\": \"247px\",\r\n",
      "                        \"height\": \"94px\",\r\n",
      "                        \"url\": \"https://images.moneycontrol.com/images/common/header/logo.png\"\r\n",
      "                    },\r\n",
      "                \"url\":\"https://www.moneycontrol.com\"\r\n",
      "              }\r\n",
      "        }]\r\n",
      "    </script>\n"
     ]
    }
   ],
   "source": [
    "print(all_script[2])"
   ]
  },
  {
   "cell_type": "code",
   "execution_count": null,
   "metadata": {
    "colab": {
     "base_uri": "https://localhost:8080/"
    },
    "id": "9rkg7N3rHMWg",
    "outputId": "d98d6390-1fac-4188-ee95-6b2ad6f0324e"
   },
   "outputs": [
    {
     "name": "stdout",
     "output_type": "stream",
     "text": [
      "        [{           \"@context\": \"https://schema.org\",           \"mainEntityOfPage\":\"https://www.moneycontrol.com/news/business/markets/reliance-industries-share-price-gains-on-50-million-investment-in-ambri-7304521.html\",                      \"@type\": \"NewsArticle\",           \"url\": \"https://www.moneycontrol.com/news/business/markets/reliance-industries-share-price-gains-on-50-million-investment-in-ambri-7304521.html\",           \"articleBody\":\"Reliance Industries (RIL) share price added over 1 percent as the company's subsidiary announced an investment in US based company.  &amp;quot;Reliance New Energy Solar (RNESL), a wholly owned subsidiary of RIL, along with strategic investors Paulson &amp;amp;amp; Co. Inc. and Bill Gates, and a few other investors, has announced an investment of USD 144 million in Ambri Inc, an energy storage company based in Massachusetts, USA,&amp;quot; as per the company press release.  The investment will help the company commercialise and grow its long-duration energy storage systems business globally.  RNESL will invest USD 50 million to acquire 42.3 million shares of preferred stock in Ambri.  &ldquo;We are exploring new and advanced electro-chemical technologies that can be used for such large-scale grid batteries to store the energy that we will create,&amp;quot; said Mukesh Ambani, Chairman, Reliance Industries.  &amp;quot;We will collaborate with global leaders in battery technology to achieve the highest reliability for round-the-clock power availability through a combination of generation, storage, and grid connectivity,&amp;quot; he added.  At 10:45 hrs Reliance Industries was quoting at Rs 2,103.60, up Rs 26.35, or 1.27 percent.  The share touched a 52-week high of Rs 2,368.80 and a 52-week low of Rs 1,830 on 16 September, 2020 and 29 January, 2021, respectively.  Currently, it is trading 11.2 percent below its 52-week high and 14.95 percent above its 52-week low.  Disclaimer: MoneyControl is a part of the Network18 group. Network18 is controlled by Independent Media Trust, of which Reliance Industries is the sole beneficiary.\",           \"articleSection\":\"Business\",           \"headline\": \"Reliance Industries share price gains on $50-million investment in Ambri\",           \"description\":\"Reliance New Energy Solar will invest USD 50 million to acquire 42.3 million shares of preferred stock in Ambri.\",           \"author\": \"Moneycontrol News\",           \"datePublished\": \"2021-08-10T14:41:33+05:30\",           \"dateModified\": \"2021-08-10T14:41:33+05:30\",           \"image\":{                 \"@context\": \"https://schema.org\",                 \"@type\": \"ImageObject\",                 \"width\": \"630px\",                 \"height\": \"354px\",                 \"url\":\"https://images.moneycontrol.com/static-mcnews/2017/04/Reliance_Industries_RIL-770x433.jpg\"               },           \"publisher\":{                 \"@context\": \"https://schema.org\",                 \"@type\": \"Organization\",                 \"name\": \"Moneycontrol\",                 \"logo\": {                         \"@context\": \"https://schema.org\",                         \"@type\": \"ImageObject\",                         \"width\": \"247px\",                         \"height\": \"94px\",                         \"url\": \"https://images.moneycontrol.com/images/common/header/logo.png\"                     },                 \"url\":\"https://www.moneycontrol.com\"               }         }]     \n"
     ]
    }
   ],
   "source": [
    "raw_article_str = all_script[2].get_text().replace('\\r\\n', ' ')\n",
    "print(raw_article_str)"
   ]
  },
  {
   "cell_type": "code",
   "execution_count": null,
   "metadata": {
    "colab": {
     "base_uri": "https://localhost:8080/"
    },
    "id": "6OOOvd_9H1WZ",
    "outputId": "7a97bdb9-73a2-4054-dfa2-a2fc31fe9aab"
   },
   "outputs": [
    {
     "name": "stdout",
     "output_type": "stream",
     "text": [
      "['        [{           ', '\"@context\"', ': ', '\"https://schema.org\"', ',           ', '\"mainEntityOfPage\"', ':', '\"https://www.moneycontrol.com/news/business/markets/reliance-industries-share-price-gains-on-50-million-investment-in-ambri-7304521.html\"', ',                      ', '\"@type\"', ': ', '\"NewsArticle\"', ',           ', '\"url\"', ': ', '\"https://www.moneycontrol.com/news/business/markets/reliance-industries-share-price-gains-on-50-million-investment-in-ambri-7304521.html\"', ',           ', '\"articleBody\"', ':', '\"Reliance Industries (RIL) share price added over 1 percent as the company\\'s subsidiary announced an investment in US based company.  &amp;quot;Reliance New Energy Solar (RNESL), a wholly owned subsidiary of RIL, along with strategic investors Paulson &amp;amp;amp; Co. Inc. and Bill Gates, and a few other investors, has announced an investment of USD 144 million in Ambri Inc, an energy storage company based in Massachusetts, USA,&amp;quot; as per the company press release.  The investment will help the company commercialise and grow its long-duration energy storage systems business globally.  RNESL will invest USD 50 million to acquire 42.3 million shares of preferred stock in Ambri.  &ldquo;We are exploring new and advanced electro-chemical technologies that can be used for such large-scale grid batteries to store the energy that we will create,&amp;quot; said Mukesh Ambani, Chairman, Reliance Industries.  &amp;quot;We will collaborate with global leaders in battery technology to achieve the highest reliability for round-the-clock power availability through a combination of generation, storage, and grid connectivity,&amp;quot; he added.  At 10:45 hrs Reliance Industries was quoting at Rs 2,103.60, up Rs 26.35, or 1.27 percent.  The share touched a 52-week high of Rs 2,368.80 and a 52-week low of Rs 1,830 on 16 September, 2020 and 29 January, 2021, respectively.  Currently, it is trading 11.2 percent below its 52-week high and 14.95 percent above its 52-week low.  Disclaimer: MoneyControl is a part of the Network18 group. Network18 is controlled by Independent Media Trust, of which Reliance Industries is the sole beneficiary.\"', ',           ', '\"articleSection\"', ':', '\"Business\"', ',           ', '\"headline\"', ': ', '\"Reliance Industries share price gains on $50-million investment in Ambri\"', ',           ', '\"description\"', ':', '\"Reliance New Energy Solar will invest USD 50 million to acquire 42.3 million shares of preferred stock in Ambri.\"', ',           ', '\"author\"', ': ', '\"Moneycontrol News\"', ',           ', '\"datePublished\"', ': ', '\"2021-08-10T14:41:33+05:30\"', ',           ', '\"dateModified\"', ': ', '\"2021-08-10T14:41:33+05:30\"', ',           ', '\"image\"', ':{                 ', '\"@context\"', ': ', '\"https://schema.org\"', ',                 ', '\"@type\"', ': ', '\"ImageObject\"', ',                 ', '\"width\"', ': ', '\"630px\"', ',                 ', '\"height\"', ': ', '\"354px\"', ',                 ', '\"url\"', ':', '\"https://images.moneycontrol.com/static-mcnews/2017/04/Reliance_Industries_RIL-770x433.jpg\"', '               },           ', '\"publisher\"', ':{                 ', '\"@context\"', ': ', '\"https://schema.org\"', ',                 ', '\"@type\"', ': ', '\"Organization\"', ',                 ', '\"name\"', ': ', '\"Moneycontrol\"', ',                 ', '\"logo\"', ': {                         ', '\"@context\"', ': ', '\"https://schema.org\"', ',                         ', '\"@type\"', ': ', '\"ImageObject\"', ',                         ', '\"width\"', ': ', '\"247px\"', ',                         ', '\"height\"', ': ', '\"94px\"', ',                         ', '\"url\"', ': ', '\"https://images.moneycontrol.com/images/common/header/logo.png\"', '                     },                 ', '\"url\"', ':', '\"https://www.moneycontrol.com\"', '               }         }]     ']\n"
     ]
    }
   ],
   "source": [
    "parts = re.split(r\"\"\"(\"[^\"]*\"|'[^']*')\"\"\", raw_article_str)\n",
    "print(parts)"
   ]
  },
  {
   "cell_type": "code",
   "execution_count": null,
   "metadata": {
    "colab": {
     "base_uri": "https://localhost:8080/"
    },
    "id": "wAZjz0aaH9db",
    "outputId": "54badce1-4732-4aaa-a3e8-851202764fad"
   },
   "outputs": [
    {
     "name": "stdout",
     "output_type": "stream",
     "text": [
      "['[{', '\"@context\"', ':', '\"https://schema.org\"', ',', '\"mainEntityOfPage\"', ':', '\"https://www.moneycontrol.com/news/business/markets/reliance-industries-share-price-gains-on-50-million-investment-in-ambri-7304521.html\"', ',', '\"@type\"', ':', '\"NewsArticle\"', ',', '\"url\"', ':', '\"https://www.moneycontrol.com/news/business/markets/reliance-industries-share-price-gains-on-50-million-investment-in-ambri-7304521.html\"', ',', '\"articleBody\"', ':', '\"Reliance Industries (RIL) share price added over 1 percent as the company\\'s subsidiary announced an investment in US based company.  &amp;quot;Reliance New Energy Solar (RNESL), a wholly owned subsidiary of RIL, along with strategic investors Paulson &amp;amp;amp; Co. Inc. and Bill Gates, and a few other investors, has announced an investment of USD 144 million in Ambri Inc, an energy storage company based in Massachusetts, USA,&amp;quot; as per the company press release.  The investment will help the company commercialise and grow its long-duration energy storage systems business globally.  RNESL will invest USD 50 million to acquire 42.3 million shares of preferred stock in Ambri.  &ldquo;We are exploring new and advanced electro-chemical technologies that can be used for such large-scale grid batteries to store the energy that we will create,&amp;quot; said Mukesh Ambani, Chairman, Reliance Industries.  &amp;quot;We will collaborate with global leaders in battery technology to achieve the highest reliability for round-the-clock power availability through a combination of generation, storage, and grid connectivity,&amp;quot; he added.  At 10:45 hrs Reliance Industries was quoting at Rs 2,103.60, up Rs 26.35, or 1.27 percent.  The share touched a 52-week high of Rs 2,368.80 and a 52-week low of Rs 1,830 on 16 September, 2020 and 29 January, 2021, respectively.  Currently, it is trading 11.2 percent below its 52-week high and 14.95 percent above its 52-week low.  Disclaimer: MoneyControl is a part of the Network18 group. Network18 is controlled by Independent Media Trust, of which Reliance Industries is the sole beneficiary.\"', ',', '\"articleSection\"', ':', '\"Business\"', ',', '\"headline\"', ':', '\"Reliance Industries share price gains on $50-million investment in Ambri\"', ',', '\"description\"', ':', '\"Reliance New Energy Solar will invest USD 50 million to acquire 42.3 million shares of preferred stock in Ambri.\"', ',', '\"author\"', ':', '\"Moneycontrol News\"', ',', '\"datePublished\"', ':', '\"2021-08-10T14:41:33+05:30\"', ',', '\"dateModified\"', ':', '\"2021-08-10T14:41:33+05:30\"', ',', '\"image\"', ':{', '\"@context\"', ':', '\"https://schema.org\"', ',', '\"@type\"', ':', '\"ImageObject\"', ',', '\"width\"', ':', '\"630px\"', ',', '\"height\"', ':', '\"354px\"', ',', '\"url\"', ':', '\"https://images.moneycontrol.com/static-mcnews/2017/04/Reliance_Industries_RIL-770x433.jpg\"', '},', '\"publisher\"', ':{', '\"@context\"', ':', '\"https://schema.org\"', ',', '\"@type\"', ':', '\"Organization\"', ',', '\"name\"', ':', '\"Moneycontrol\"', ',', '\"logo\"', ':{', '\"@context\"', ':', '\"https://schema.org\"', ',', '\"@type\"', ':', '\"ImageObject\"', ',', '\"width\"', ':', '\"247px\"', ',', '\"height\"', ':', '\"94px\"', ',', '\"url\"', ':', '\"https://images.moneycontrol.com/images/common/header/logo.png\"', '},', '\"url\"', ':', '\"https://www.moneycontrol.com\"', '}}]']\n"
     ]
    }
   ],
   "source": [
    "parts[::2] = map(lambda s: \"\".join(s.split()), parts[::2])\n",
    "print(parts)"
   ]
  },
  {
   "cell_type": "code",
   "execution_count": null,
   "metadata": {
    "colab": {
     "base_uri": "https://localhost:8080/"
    },
    "id": "sHcWg4jiIMyd",
    "outputId": "b1f43e54-2036-4346-c023-be12b2b5259e"
   },
   "outputs": [
    {
     "name": "stdout",
     "output_type": "stream",
     "text": [
      "[{\"@context\":\"https://schema.org\",\"mainEntityOfPage\":\"https://www.moneycontrol.com/news/business/markets/reliance-industries-share-price-gains-on-50-million-investment-in-ambri-7304521.html\",\"@type\":\"NewsArticle\",\"url\":\"https://www.moneycontrol.com/news/business/markets/reliance-industries-share-price-gains-on-50-million-investment-in-ambri-7304521.html\",\"articleBody\":\"Reliance Industries (RIL) share price added over 1 percent as the company's subsidiary announced an investment in US based company.  &amp;quot;Reliance New Energy Solar (RNESL), a wholly owned subsidiary of RIL, along with strategic investors Paulson &amp;amp;amp; Co. Inc. and Bill Gates, and a few other investors, has announced an investment of USD 144 million in Ambri Inc, an energy storage company based in Massachusetts, USA,&amp;quot; as per the company press release.  The investment will help the company commercialise and grow its long-duration energy storage systems business globally.  RNESL will invest USD 50 million to acquire 42.3 million shares of preferred stock in Ambri.  &ldquo;We are exploring new and advanced electro-chemical technologies that can be used for such large-scale grid batteries to store the energy that we will create,&amp;quot; said Mukesh Ambani, Chairman, Reliance Industries.  &amp;quot;We will collaborate with global leaders in battery technology to achieve the highest reliability for round-the-clock power availability through a combination of generation, storage, and grid connectivity,&amp;quot; he added.  At 10:45 hrs Reliance Industries was quoting at Rs 2,103.60, up Rs 26.35, or 1.27 percent.  The share touched a 52-week high of Rs 2,368.80 and a 52-week low of Rs 1,830 on 16 September, 2020 and 29 January, 2021, respectively.  Currently, it is trading 11.2 percent below its 52-week high and 14.95 percent above its 52-week low.  Disclaimer: MoneyControl is a part of the Network18 group. Network18 is controlled by Independent Media Trust, of which Reliance Industries is the sole beneficiary.\",\"articleSection\":\"Business\",\"headline\":\"Reliance Industries share price gains on $50-million investment in Ambri\",\"description\":\"Reliance New Energy Solar will invest USD 50 million to acquire 42.3 million shares of preferred stock in Ambri.\",\"author\":\"Moneycontrol News\",\"datePublished\":\"2021-08-10T14:41:33+05:30\",\"dateModified\":\"2021-08-10T14:41:33+05:30\",\"image\":{\"@context\":\"https://schema.org\",\"@type\":\"ImageObject\",\"width\":\"630px\",\"height\":\"354px\",\"url\":\"https://images.moneycontrol.com/static-mcnews/2017/04/Reliance_Industries_RIL-770x433.jpg\"},\"publisher\":{\"@context\":\"https://schema.org\",\"@type\":\"Organization\",\"name\":\"Moneycontrol\",\"logo\":{\"@context\":\"https://schema.org\",\"@type\":\"ImageObject\",\"width\":\"247px\",\"height\":\"94px\",\"url\":\"https://images.moneycontrol.com/images/common/header/logo.png\"},\"url\":\"https://www.moneycontrol.com\"}}]\n"
     ]
    }
   ],
   "source": [
    "article_str = \"\".join(parts)\n",
    "print(article_str)"
   ]
  },
  {
   "cell_type": "code",
   "execution_count": null,
   "metadata": {
    "colab": {
     "base_uri": "https://localhost:8080/"
    },
    "id": "re2qwQzKIYJv",
    "outputId": "6872eff5-ccf6-4be3-bc2e-94d218a4c474"
   },
   "outputs": [
    {
     "name": "stdout",
     "output_type": "stream",
     "text": [
      "{\"@context\":\"https://schema.org\",\"mainEntityOfPage\":\"https://www.moneycontrol.com/news/business/markets/reliance-industries-share-price-gains-on-50-million-investment-in-ambri-7304521.html\",\"@type\":\"NewsArticle\",\"url\":\"https://www.moneycontrol.com/news/business/markets/reliance-industries-share-price-gains-on-50-million-investment-in-ambri-7304521.html\",\"articleBody\":\"Reliance Industries (RIL) share price added over 1 percent as the company's subsidiary announced an investment in US based company.  &amp;quot;Reliance New Energy Solar (RNESL), a wholly owned subsidiary of RIL, along with strategic investors Paulson &amp;amp;amp; Co. Inc. and Bill Gates, and a few other investors, has announced an investment of USD 144 million in Ambri Inc, an energy storage company based in Massachusetts, USA,&amp;quot; as per the company press release.  The investment will help the company commercialise and grow its long-duration energy storage systems business globally.  RNESL will invest USD 50 million to acquire 42.3 million shares of preferred stock in Ambri.  &ldquo;We are exploring new and advanced electro-chemical technologies that can be used for such large-scale grid batteries to store the energy that we will create,&amp;quot; said Mukesh Ambani, Chairman, Reliance Industries.  &amp;quot;We will collaborate with global leaders in battery technology to achieve the highest reliability for round-the-clock power availability through a combination of generation, storage, and grid connectivity,&amp;quot; he added.  At 10:45 hrs Reliance Industries was quoting at Rs 2,103.60, up Rs 26.35, or 1.27 percent.  The share touched a 52-week high of Rs 2,368.80 and a 52-week low of Rs 1,830 on 16 September, 2020 and 29 January, 2021, respectively.  Currently, it is trading 11.2 percent below its 52-week high and 14.95 percent above its 52-week low.  Disclaimer: MoneyControl is a part of the Network18 group. Network18 is controlled by Independent Media Trust, of which Reliance Industries is the sole beneficiary.\",\"articleSection\":\"Business\",\"headline\":\"Reliance Industries share price gains on $50-million investment in Ambri\",\"description\":\"Reliance New Energy Solar will invest USD 50 million to acquire 42.3 million shares of preferred stock in Ambri.\",\"author\":\"Moneycontrol News\",\"datePublished\":\"2021-08-10T14:41:33+05:30\",\"dateModified\":\"2021-08-10T14:41:33+05:30\",\"image\":{\"@context\":\"https://schema.org\",\"@type\":\"ImageObject\",\"width\":\"630px\",\"height\":\"354px\",\"url\":\"https://images.moneycontrol.com/static-mcnews/2017/04/Reliance_Industries_RIL-770x433.jpg\"},\"publisher\":{\"@context\":\"https://schema.org\",\"@type\":\"Organization\",\"name\":\"Moneycontrol\",\"logo\":{\"@context\":\"https://schema.org\",\"@type\":\"ImageObject\",\"width\":\"247px\",\"height\":\"94px\",\"url\":\"https://images.moneycontrol.com/images/common/header/logo.png\"},\"url\":\"https://www.moneycontrol.com\"}}\n"
     ]
    }
   ],
   "source": [
    "article_str = article_str[1:]\n",
    "article_str = article_str[:-1]\n",
    "print(article_str)"
   ]
  },
  {
   "cell_type": "code",
   "execution_count": null,
   "metadata": {
    "colab": {
     "base_uri": "https://localhost:8080/"
    },
    "id": "-MpprAmVIo_R",
    "outputId": "9c08ca13-b445-430c-f48e-6000d771e952"
   },
   "outputs": [
    {
     "name": "stdout",
     "output_type": "stream",
     "text": [
      "{\"@context\":\"https://schema.org\",\"mainEntityOfPage\":\"https://www.moneycontrol.com/news/business/markets/reliance-industries-share-price-gains-on-50-million-investment-in-ambri-7304521.html\",\"@type\":\"NewsArticle\",\"url\":\"https://www.moneycontrol.com/news/business/markets/reliance-industries-share-price-gains-on-50-million-investment-in-ambri-7304521.html\",\"articleBody\":\"Reliance Industries (RIL) share price added over 1 percent as the company's subsidiary announced an investment in US based company.  &amp;quot;Reliance New Energy Solar (RNESL), a wholly owned subsidiary of RIL, along with strategic investors Paulson &amp;amp;amp; Co. Inc. and Bill Gates, and a few other investors, has announced an investment of USD 144 million in Ambri Inc, an energy storage company based in Massachusetts, USA,&amp;quot; as per the company press release.  The investment will help the company commercialise and grow its long-duration energy storage systems business globally.  RNESL will invest USD 50 million to acquire 42.3 million shares of preferred stock in Ambri.  &ldquo;We are exploring new and advanced electro-chemical technologies that can be used for such large-scale grid batteries to store the energy that we will create,&amp;quot; said Mukesh Ambani, Chairman, Reliance Industries.  &amp;quot;We will collaborate with global leaders in battery technology to achieve the highest reliability for round-the-clock power availability through a combination of generation, storage, and grid connectivity,&amp;quot; he added.  At 10:45 hrs Reliance Industries was quoting at Rs 2,103.60, up Rs 26.35, or 1.27 percent.  The share touched a 52-week high of Rs 2,368.80 and a 52-week low of Rs 1,830 on 16 September, 2020 and 29 January, 2021, respectively.  Currently, it is trading 11.2 percent below its 52-week high and 14.95 percent above its 52-week low.  Disclaimer: MoneyControl is a part of the Network18 group. Network18 is controlled by Independent Media Trust, of which Reliance Industries is the sole beneficiary.\",\"articleSection\":\"Business\",\"headline\":\"Reliance Industries share price gains on $50-million investment in Ambri\",\"description\":\"Reliance New Energy Solar will invest USD 50 million to acquire 42.3 million shares of preferred stock in Ambri.\",\"author\":\"Moneycontrol News\",\"datePublished\":\"2021-08-10T14:41:33+05:30\",\"dateModified\":\"2021-08-10T14:41:33+05:30\",\"image\":{\"@context\":\"https://schema.org\",\"@type\":\"ImageObject\",\"width\":\"630px\",\"height\":\"354px\",\"url\":\"https://images.moneycontrol.com/static-mcnews/2017/04/Reliance_Industries_RIL-770x433.jpg\"},\"publisher\":{\"@context\":\"https://schema.org\",\"@type\":\"Organization\",\"name\":\"Moneycontrol\",\"logo\":{\"@context\":\"https://schema.org\",\"@type\":\"ImageObject\",\"width\":\"247px\",\"height\":\"94px\",\"url\":\"https://images.moneycontrol.com/images/common/header/logo.png\"},\"url\":\"https://www.moneycontrol.com\"}}\n"
     ]
    }
   ],
   "source": [
    "article_dict = json.loads(article_str)\n",
    "print(article_str)"
   ]
  },
  {
   "cell_type": "code",
   "execution_count": null,
   "metadata": {
    "colab": {
     "base_uri": "https://localhost:8080/"
    },
    "id": "58z-Tx76IyRj",
    "outputId": "917fa3eb-f346-43dd-c58c-a41a441f4c37"
   },
   "outputs": [
    {
     "name": "stdout",
     "output_type": "stream",
     "text": [
      "[<div class=\"tags_first_line\"><span>Tags:</span> <a href=\"https://www.moneycontrol.com/news/tags/buzzing-stocks.html\" title=\"Buzzing Stocks\">#Buzzing Stocks</a> <a href=\"https://www.moneycontrol.com/news/tags/reliance-industries.html\" title=\"Reliance Industries\">#Reliance Industries</a>\n",
      "</div>]\n"
     ]
    }
   ],
   "source": [
    "all_tags = soup.find_all('div', attrs = {'class': 'tags_first_line'})\n",
    "print(all_tags)"
   ]
  },
  {
   "cell_type": "code",
   "execution_count": null,
   "metadata": {
    "colab": {
     "base_uri": "https://localhost:8080/"
    },
    "id": "jefqeR9vJDQX",
    "outputId": "9db809ab-6068-4f79-d98f-3ea64d1e2828"
   },
   "outputs": [
    {
     "name": "stdout",
     "output_type": "stream",
     "text": [
      "['Tags: #Buzzing Stocks #Reliance Industries\\n']\n"
     ]
    }
   ],
   "source": [
    "lst_all_tags = []\n",
    "for i in all_tags:\n",
    "  lst_all_tags.append(i.get_text())\n",
    "print(lst_all_tags)"
   ]
  },
  {
   "cell_type": "code",
   "execution_count": null,
   "metadata": {
    "colab": {
     "base_uri": "https://localhost:8080/"
    },
    "id": "iMJTrObVJPn4",
    "outputId": "4853c185-6a76-43a7-f2d4-e4e1d4bb28f0"
   },
   "outputs": [
    {
     "name": "stdout",
     "output_type": "stream",
     "text": [
      " #Buzzing Stocks #Reliance Industries\n"
     ]
    }
   ],
   "source": [
    "tags = lst_all_tags[0].replace('Tags:', '')\n",
    "tags = tags.replace('\\n', '')\n",
    "print(tags)"
   ]
  },
  {
   "cell_type": "code",
   "execution_count": null,
   "metadata": {
    "colab": {
     "base_uri": "https://localhost:8080/"
    },
    "id": "BNEwisaAJd8O",
    "outputId": "cc9cff53-38bc-46bb-c907-6eee7c011143"
   },
   "outputs": [
    {
     "name": "stdout",
     "output_type": "stream",
     "text": [
      "[' ', 'Buzzing Stocks ', 'Reliance Industries']\n"
     ]
    }
   ],
   "source": [
    "tags = tags.split('#')\n",
    "print(tags)"
   ]
  },
  {
   "cell_type": "code",
   "execution_count": null,
   "metadata": {
    "colab": {
     "base_uri": "https://localhost:8080/"
    },
    "id": "J4WgkuknJjhP",
    "outputId": "72beb3d2-3516-4d99-9fb3-3e8b0fefcb3b"
   },
   "outputs": [
    {
     "name": "stdout",
     "output_type": "stream",
     "text": [
      "['Buzzing Stocks ', 'Reliance Industries']\n"
     ]
    }
   ],
   "source": [
    "tags = tags[1:]\n",
    "print(tags)"
   ]
  },
  {
   "cell_type": "code",
   "execution_count": null,
   "metadata": {
    "colab": {
     "base_uri": "https://localhost:8080/"
    },
    "id": "9r-6baoYJnH-",
    "outputId": "7ae8d4dd-f529-495a-d9b0-c5d46eb50114"
   },
   "outputs": [
    {
     "name": "stdout",
     "output_type": "stream",
     "text": [
      "Buzzing Stocks, Reliance Industries\n"
     ]
    }
   ],
   "source": [
    "tags = ', '.join([str(elem).strip() for elem in tags])\n",
    "print(tags)"
   ]
  },
  {
   "cell_type": "code",
   "execution_count": null,
   "metadata": {
    "colab": {
     "base_uri": "https://localhost:8080/"
    },
    "id": "UgKfSk2GJxjn",
    "outputId": "89fa9dbb-64f8-4a60-826b-e1e18bfad84c"
   },
   "outputs": [
    {
     "name": "stdout",
     "output_type": "stream",
     "text": [
      "{'@context': 'https://schema.org', 'mainEntityOfPage': 'https://www.moneycontrol.com/news/business/markets/reliance-industries-share-price-gains-on-50-million-investment-in-ambri-7304521.html', '@type': 'NewsArticle', 'url': 'https://www.moneycontrol.com/news/business/markets/reliance-industries-share-price-gains-on-50-million-investment-in-ambri-7304521.html', 'articleBody': \"Reliance Industries (RIL) share price added over 1 percent as the company's subsidiary announced an investment in US based company.  &amp;quot;Reliance New Energy Solar (RNESL), a wholly owned subsidiary of RIL, along with strategic investors Paulson &amp;amp;amp; Co. Inc. and Bill Gates, and a few other investors, has announced an investment of USD 144 million in Ambri Inc, an energy storage company based in Massachusetts, USA,&amp;quot; as per the company press release.  The investment will help the company commercialise and grow its long-duration energy storage systems business globally.  RNESL will invest USD 50 million to acquire 42.3 million shares of preferred stock in Ambri.  &ldquo;We are exploring new and advanced electro-chemical technologies that can be used for such large-scale grid batteries to store the energy that we will create,&amp;quot; said Mukesh Ambani, Chairman, Reliance Industries.  &amp;quot;We will collaborate with global leaders in battery technology to achieve the highest reliability for round-the-clock power availability through a combination of generation, storage, and grid connectivity,&amp;quot; he added.  At 10:45 hrs Reliance Industries was quoting at Rs 2,103.60, up Rs 26.35, or 1.27 percent.  The share touched a 52-week high of Rs 2,368.80 and a 52-week low of Rs 1,830 on 16 September, 2020 and 29 January, 2021, respectively.  Currently, it is trading 11.2 percent below its 52-week high and 14.95 percent above its 52-week low.  Disclaimer: MoneyControl is a part of the Network18 group. Network18 is controlled by Independent Media Trust, of which Reliance Industries is the sole beneficiary.\", 'articleSection': 'Business', 'headline': 'Reliance Industries share price gains on $50-million investment in Ambri', 'description': 'Reliance New Energy Solar will invest USD 50 million to acquire 42.3 million shares of preferred stock in Ambri.', 'author': 'Moneycontrol News', 'datePublished': '2021-08-10T14:41:33+05:30', 'dateModified': '2021-08-10T14:41:33+05:30', 'image': {'@context': 'https://schema.org', '@type': 'ImageObject', 'width': '630px', 'height': '354px', 'url': 'https://images.moneycontrol.com/static-mcnews/2017/04/Reliance_Industries_RIL-770x433.jpg'}, 'publisher': {'@context': 'https://schema.org', '@type': 'Organization', 'name': 'Moneycontrol', 'logo': {'@context': 'https://schema.org', '@type': 'ImageObject', 'width': '247px', 'height': '94px', 'url': 'https://images.moneycontrol.com/images/common/header/logo.png'}, 'url': 'https://www.moneycontrol.com'}, 'tags': 'Buzzing Stocks, Reliance Industries'}\n"
     ]
    }
   ],
   "source": [
    "article_dict['tags'] = tags\n",
    "print(article_dict)"
   ]
  },
  {
   "cell_type": "code",
   "execution_count": null,
   "metadata": {
    "id": "bt4yDSiqJ5rm"
   },
   "outputs": [],
   "source": [
    "with open('/content/data.json', 'w') as fp:\n",
    "    json.dump(article_dict, fp)"
   ]
  },
  {
   "cell_type": "code",
   "execution_count": null,
   "metadata": {
    "id": "q-5L786HJ_23"
   },
   "outputs": [],
   "source": []
  }
 ],
 "metadata": {
  "colab": {
   "name": "V5-0_WebScraping-News-Blog.ipynb",
   "provenance": []
  },
  "kernelspec": {
   "display_name": "Python 3",
   "language": "python",
   "name": "python3"
  },
  "language_info": {
   "codemirror_mode": {
    "name": "ipython",
    "version": 3
   },
   "file_extension": ".py",
   "mimetype": "text/x-python",
   "name": "python",
   "nbconvert_exporter": "python",
   "pygments_lexer": "ipython3",
   "version": "3.8.5"
  }
 },
 "nbformat": 4,
 "nbformat_minor": 1
}
